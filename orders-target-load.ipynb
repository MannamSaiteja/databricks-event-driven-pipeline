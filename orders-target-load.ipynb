{
 "cells": [
  {
   "cell_type": "code",
   "execution_count": 0,
   "metadata": {
    "application/vnd.databricks.v1+cell": {
     "cellMetadata": {
      "byteLimit": 2048000,
      "rowLimit": 10000
     },
     "inputWidgets": {},
     "nuid": "f9513d5c-c6f7-40a7-a3ba-561916279419",
     "showTitle": false,
     "tableResultSettingsMap": {},
     "title": ""
    }
   },
   "outputs": [],
   "source": [
    "from delta.tables import *\n",
    "stage_table_name='incremental_load.default.orders_stage'\n",
    "target_table_name='incremental_load.default.orders_target'"
   ]
  },
  {
   "cell_type": "code",
   "execution_count": 0,
   "metadata": {
    "application/vnd.databricks.v1+cell": {
     "cellMetadata": {},
     "inputWidgets": {},
     "nuid": "ed53b911-64a9-4e4a-8efe-e0cd31bbc910",
     "showTitle": false,
     "tableResultSettingsMap": {},
     "title": ""
    }
   },
   "outputs": [],
   "source": [
    "stage_df= spark.read.table(stage_table_name)"
   ]
  },
  {
   "cell_type": "code",
   "execution_count": 0,
   "metadata": {
    "application/vnd.databricks.v1+cell": {
     "cellMetadata": {},
     "inputWidgets": {},
     "nuid": "7855c0ba-5e9d-4e89-9c5d-698b00e52b5b",
     "showTitle": false,
     "tableResultSettingsMap": {},
     "title": ""
    }
   },
   "outputs": [],
   "source": [
    "if not spark.catalog.tableExists(target_table_name):\n",
    "    stage_df.write.format('delta').saveAsTable(target_table_name)\n",
    "else:\n",
    "    target_table=DeltaTable.forName(spark, target_table_name)\n",
    "    merge_condition= \"stage.tracking_num = target.tracking_num\"\n",
    "    target_table.alias('target').merge(stage_df.alias('stage'), merge_condition).whenMatchedDelete().execute()\n",
    "    stage_df.write.format('delta').mode('append').saveAsTable(target_table_name)"
   ]
  }
 ],
 "metadata": {
  "application/vnd.databricks.v1+notebook": {
   "computePreferences": null,
   "dashboards": [],
   "environmentMetadata": {
    "base_environment": "",
    "environment_version": "2"
   },
   "language": "python",
   "notebookMetadata": {
    "pythonIndentUnit": 4
   },
   "notebookName": "orders-target-load",
   "widgets": {}
  },
  "language_info": {
   "name": "python"
  }
 },
 "nbformat": 4,
 "nbformat_minor": 0
}
